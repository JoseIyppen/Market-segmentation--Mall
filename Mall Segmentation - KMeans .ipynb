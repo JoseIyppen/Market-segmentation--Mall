{
 "cells": [
  {
   "cell_type": "code",
   "execution_count": 81,
   "id": "70d16872",
   "metadata": {},
   "outputs": [],
   "source": [
    "import pandas as pd\n",
    "import seaborn as sns\n",
    "import matplotlib.pyplot as plt\n",
    "from sklearn.cluster import KMeans\n",
    "import warnings\n",
    "warnings.filterwarnings('ignore')\n",
    "from sklearn.preprocessing import StandardScaler"
   ]
  },
  {
   "cell_type": "code",
   "execution_count": 82,
   "id": "e218ecb7",
   "metadata": {},
   "outputs": [],
   "source": [
    "df=pd.read_csv(r\"C:\\Users\\MY BOOK\\Downloads\\Mall_Customers.csv\")"
   ]
  },
  {
   "cell_type": "code",
   "execution_count": 83,
   "id": "ec005652",
   "metadata": {},
   "outputs": [
    {
     "data": {
      "text/html": [
       "<div>\n",
       "<style scoped>\n",
       "    .dataframe tbody tr th:only-of-type {\n",
       "        vertical-align: middle;\n",
       "    }\n",
       "\n",
       "    .dataframe tbody tr th {\n",
       "        vertical-align: top;\n",
       "    }\n",
       "\n",
       "    .dataframe thead th {\n",
       "        text-align: right;\n",
       "    }\n",
       "</style>\n",
       "<table border=\"1\" class=\"dataframe\">\n",
       "  <thead>\n",
       "    <tr style=\"text-align: right;\">\n",
       "      <th></th>\n",
       "      <th>CustomerID</th>\n",
       "      <th>Gender</th>\n",
       "      <th>Age</th>\n",
       "      <th>Annual Income (k$)</th>\n",
       "      <th>Spending Score (1-100)</th>\n",
       "    </tr>\n",
       "  </thead>\n",
       "  <tbody>\n",
       "    <tr>\n",
       "      <th>0</th>\n",
       "      <td>1</td>\n",
       "      <td>Male</td>\n",
       "      <td>19</td>\n",
       "      <td>15</td>\n",
       "      <td>39</td>\n",
       "    </tr>\n",
       "    <tr>\n",
       "      <th>1</th>\n",
       "      <td>2</td>\n",
       "      <td>Male</td>\n",
       "      <td>21</td>\n",
       "      <td>15</td>\n",
       "      <td>81</td>\n",
       "    </tr>\n",
       "    <tr>\n",
       "      <th>2</th>\n",
       "      <td>3</td>\n",
       "      <td>Female</td>\n",
       "      <td>20</td>\n",
       "      <td>16</td>\n",
       "      <td>6</td>\n",
       "    </tr>\n",
       "    <tr>\n",
       "      <th>3</th>\n",
       "      <td>4</td>\n",
       "      <td>Female</td>\n",
       "      <td>23</td>\n",
       "      <td>16</td>\n",
       "      <td>77</td>\n",
       "    </tr>\n",
       "    <tr>\n",
       "      <th>4</th>\n",
       "      <td>5</td>\n",
       "      <td>Female</td>\n",
       "      <td>31</td>\n",
       "      <td>17</td>\n",
       "      <td>40</td>\n",
       "    </tr>\n",
       "  </tbody>\n",
       "</table>\n",
       "</div>"
      ],
      "text/plain": [
       "   CustomerID  Gender  Age  Annual Income (k$)  Spending Score (1-100)\n",
       "0           1    Male   19                  15                      39\n",
       "1           2    Male   21                  15                      81\n",
       "2           3  Female   20                  16                       6\n",
       "3           4  Female   23                  16                      77\n",
       "4           5  Female   31                  17                      40"
      ]
     },
     "execution_count": 83,
     "metadata": {},
     "output_type": "execute_result"
    }
   ],
   "source": [
    "df.head()"
   ]
  },
  {
   "cell_type": "code",
   "execution_count": 85,
   "id": "48f9ad89",
   "metadata": {},
   "outputs": [
    {
     "data": {
      "text/html": [
       "<div>\n",
       "<style scoped>\n",
       "    .dataframe tbody tr th:only-of-type {\n",
       "        vertical-align: middle;\n",
       "    }\n",
       "\n",
       "    .dataframe tbody tr th {\n",
       "        vertical-align: top;\n",
       "    }\n",
       "\n",
       "    .dataframe thead th {\n",
       "        text-align: right;\n",
       "    }\n",
       "</style>\n",
       "<table border=\"1\" class=\"dataframe\">\n",
       "  <thead>\n",
       "    <tr style=\"text-align: right;\">\n",
       "      <th></th>\n",
       "      <th>Gender</th>\n",
       "      <th>Age</th>\n",
       "      <th>Annual Income (k$)</th>\n",
       "      <th>Spending Score (1-100)</th>\n",
       "    </tr>\n",
       "  </thead>\n",
       "  <tbody>\n",
       "    <tr>\n",
       "      <th>0</th>\n",
       "      <td>Male</td>\n",
       "      <td>19</td>\n",
       "      <td>15</td>\n",
       "      <td>39</td>\n",
       "    </tr>\n",
       "    <tr>\n",
       "      <th>1</th>\n",
       "      <td>Male</td>\n",
       "      <td>21</td>\n",
       "      <td>15</td>\n",
       "      <td>81</td>\n",
       "    </tr>\n",
       "    <tr>\n",
       "      <th>2</th>\n",
       "      <td>Female</td>\n",
       "      <td>20</td>\n",
       "      <td>16</td>\n",
       "      <td>6</td>\n",
       "    </tr>\n",
       "    <tr>\n",
       "      <th>3</th>\n",
       "      <td>Female</td>\n",
       "      <td>23</td>\n",
       "      <td>16</td>\n",
       "      <td>77</td>\n",
       "    </tr>\n",
       "    <tr>\n",
       "      <th>4</th>\n",
       "      <td>Female</td>\n",
       "      <td>31</td>\n",
       "      <td>17</td>\n",
       "      <td>40</td>\n",
       "    </tr>\n",
       "  </tbody>\n",
       "</table>\n",
       "</div>"
      ],
      "text/plain": [
       "   Gender  Age  Annual Income (k$)  Spending Score (1-100)\n",
       "0    Male   19                  15                      39\n",
       "1    Male   21                  15                      81\n",
       "2  Female   20                  16                       6\n",
       "3  Female   23                  16                      77\n",
       "4  Female   31                  17                      40"
      ]
     },
     "execution_count": 85,
     "metadata": {},
     "output_type": "execute_result"
    }
   ],
   "source": [
    "df=df.drop('CustomerID', axis=1)\n",
    "df.head()"
   ]
  },
  {
   "cell_type": "code",
   "execution_count": 86,
   "id": "a7ba6145",
   "metadata": {},
   "outputs": [
    {
     "name": "stdout",
     "output_type": "stream",
     "text": [
      "<class 'pandas.core.frame.DataFrame'>\n",
      "RangeIndex: 200 entries, 0 to 199\n",
      "Data columns (total 4 columns):\n",
      " #   Column                  Non-Null Count  Dtype \n",
      "---  ------                  --------------  ----- \n",
      " 0   Gender                  200 non-null    object\n",
      " 1   Age                     200 non-null    int64 \n",
      " 2   Annual Income (k$)      200 non-null    int64 \n",
      " 3   Spending Score (1-100)  200 non-null    int64 \n",
      "dtypes: int64(3), object(1)\n",
      "memory usage: 6.4+ KB\n"
     ]
    }
   ],
   "source": [
    "df.info()"
   ]
  },
  {
   "cell_type": "markdown",
   "id": "021f31df",
   "metadata": {},
   "source": [
    "# Univariate Analysis"
   ]
  },
  {
   "cell_type": "code",
   "execution_count": 87,
   "id": "d0886832",
   "metadata": {},
   "outputs": [
    {
     "data": {
      "text/html": [
       "<div>\n",
       "<style scoped>\n",
       "    .dataframe tbody tr th:only-of-type {\n",
       "        vertical-align: middle;\n",
       "    }\n",
       "\n",
       "    .dataframe tbody tr th {\n",
       "        vertical-align: top;\n",
       "    }\n",
       "\n",
       "    .dataframe thead th {\n",
       "        text-align: right;\n",
       "    }\n",
       "</style>\n",
       "<table border=\"1\" class=\"dataframe\">\n",
       "  <thead>\n",
       "    <tr style=\"text-align: right;\">\n",
       "      <th></th>\n",
       "      <th>Age</th>\n",
       "      <th>Annual Income (k$)</th>\n",
       "      <th>Spending Score (1-100)</th>\n",
       "    </tr>\n",
       "  </thead>\n",
       "  <tbody>\n",
       "    <tr>\n",
       "      <th>count</th>\n",
       "      <td>200.000000</td>\n",
       "      <td>200.000000</td>\n",
       "      <td>200.000000</td>\n",
       "    </tr>\n",
       "    <tr>\n",
       "      <th>mean</th>\n",
       "      <td>38.850000</td>\n",
       "      <td>60.560000</td>\n",
       "      <td>50.200000</td>\n",
       "    </tr>\n",
       "    <tr>\n",
       "      <th>std</th>\n",
       "      <td>13.969007</td>\n",
       "      <td>26.264721</td>\n",
       "      <td>25.823522</td>\n",
       "    </tr>\n",
       "    <tr>\n",
       "      <th>min</th>\n",
       "      <td>18.000000</td>\n",
       "      <td>15.000000</td>\n",
       "      <td>1.000000</td>\n",
       "    </tr>\n",
       "    <tr>\n",
       "      <th>25%</th>\n",
       "      <td>28.750000</td>\n",
       "      <td>41.500000</td>\n",
       "      <td>34.750000</td>\n",
       "    </tr>\n",
       "    <tr>\n",
       "      <th>50%</th>\n",
       "      <td>36.000000</td>\n",
       "      <td>61.500000</td>\n",
       "      <td>50.000000</td>\n",
       "    </tr>\n",
       "    <tr>\n",
       "      <th>75%</th>\n",
       "      <td>49.000000</td>\n",
       "      <td>78.000000</td>\n",
       "      <td>73.000000</td>\n",
       "    </tr>\n",
       "    <tr>\n",
       "      <th>max</th>\n",
       "      <td>70.000000</td>\n",
       "      <td>137.000000</td>\n",
       "      <td>99.000000</td>\n",
       "    </tr>\n",
       "  </tbody>\n",
       "</table>\n",
       "</div>"
      ],
      "text/plain": [
       "              Age  Annual Income (k$)  Spending Score (1-100)\n",
       "count  200.000000          200.000000              200.000000\n",
       "mean    38.850000           60.560000               50.200000\n",
       "std     13.969007           26.264721               25.823522\n",
       "min     18.000000           15.000000                1.000000\n",
       "25%     28.750000           41.500000               34.750000\n",
       "50%     36.000000           61.500000               50.000000\n",
       "75%     49.000000           78.000000               73.000000\n",
       "max     70.000000          137.000000               99.000000"
      ]
     },
     "execution_count": 87,
     "metadata": {},
     "output_type": "execute_result"
    }
   ],
   "source": [
    "df.describe()"
   ]
  },
  {
   "cell_type": "code",
   "execution_count": 88,
   "id": "d33c8cc4",
   "metadata": {},
   "outputs": [
    {
     "data": {
      "text/plain": [
       "Index(['Gender', 'Age', 'Annual Income (k$)', 'Spending Score (1-100)'], dtype='object')"
      ]
     },
     "execution_count": 88,
     "metadata": {},
     "output_type": "execute_result"
    }
   ],
   "source": [
    "df.columns"
   ]
  },
  {
   "cell_type": "code",
   "execution_count": 90,
   "id": "73944874",
   "metadata": {},
   "outputs": [
    {
     "data": {
      "image/png": "[encoded data removed]",
      "text/plain": [
       "<Figure size 432x288 with 1 Axes>"
      ]
     },
     "metadata": {
      "needs_background": "light"
     },
     "output_type": "display_data"
    },
    {
     "data": {
      "image/png": "[encoded data removed]",
      "text/plain": [
       "<Figure size 432x288 with 1 Axes>"
      ]
     },
     "metadata": {
      "needs_background": "light"
     },
     "output_type": "display_data"
    },
    {
     "data": {
      "image/png": "[encoded data removed]",
      "text/plain": [
       "<Figure size 432x288 with 1 Axes>"
      ]
     },
     "metadata": {
      "needs_background": "light"
     },
     "output_type": "display_data"
    }
   ],
   "source": [
    "columns=['Age', 'Annual Income (k$)','Spending Score (1-100)']\n",
    "for f in columns:\n",
    "    plt.figure()\n",
    "    sns.distplot(df[f], kde=True)"
   ]
  },
  {
   "cell_type": "code",
   "execution_count": null,
   "id": "9e10b23a",
   "metadata": {},
   "outputs": [],
   "source": [
    "# Observe that 'Age' and 'Annual income' follow a slightly right skewed distribution.\n",
    "# 'Spending score' surprisingle follows  multimodal distribution."
   ]
  },
  {
   "cell_type": "code",
   "execution_count": 91,
   "id": "5344751d",
   "metadata": {},
   "outputs": [
    {
     "data": {
      "text/plain": [
       "Female    0.56\n",
       "Male      0.44\n",
       "Name: Gender, dtype: float64"
      ]
     },
     "execution_count": 91,
     "metadata": {},
     "output_type": "execute_result"
    }
   ],
   "source": [
    "df['Gender'].value_counts(normalize=True)\n",
    "\n",
    "# According to the given data, 56 percent of the visitors are females. "
   ]
  },
  {
   "cell_type": "code",
   "execution_count": 17,
   "id": "e7f46f5a",
   "metadata": {},
   "outputs": [
    {
     "data": {
      "image/png": "[encoded data removed]",
      "text/plain": [
       "<Figure size 432x288 with 1 Axes>"
      ]
     },
     "metadata": {
      "needs_background": "light"
     },
     "output_type": "display_data"
    },
    {
     "data": {
      "image/png": "[encoded data removed]",
      "text/plain": [
       "<Figure size 432x288 with 1 Axes>"
      ]
     },
     "metadata": {
      "needs_background": "light"
     },
     "output_type": "display_data"
    },
    {
     "data": {
      "image/png": "[encoded data removed]",
      "text/plain": [
       "<Figure size 432x288 with 1 Axes>"
      ]
     },
     "metadata": {
      "needs_background": "light"
     },
     "output_type": "display_data"
    }
   ],
   "source": [
    "# Now lets investigate how the variables 'Age', 'Annual Income (k$)' and 'Spending Score (1-100)' \n",
    "# are distributed within each gender.\n",
    "\n",
    "for f in columns:\n",
    "    plt.figure()\n",
    "    sns.kdeplot(df[f], shade=True,hue=df['Gender']);"
   ]
  },
  {
   "cell_type": "code",
   "execution_count": null,
   "id": "f6859ebe",
   "metadata": {},
   "outputs": [],
   "source": [
    "# The distribution of age among male visitors appears to be more evenly spread out than that of female visitors. \n",
    "# When looking at the age distribution of female visitors, a smaller proportion of visitors are over 40 compared \n",
    "# to those under 40.\n",
    "\n",
    "# Annual income follow a similar distribution among both the gender classes.\n",
    "# The only notable difference noticed is that males have a significantly higher number of visitors with very high income."
   ]
  },
  {
   "cell_type": "markdown",
   "id": "11bdb4d5",
   "metadata": {},
   "source": [
    "# Bivariate Analysis"
   ]
  },
  {
   "cell_type": "code",
   "execution_count": 28,
   "id": "663e1f39",
   "metadata": {},
   "outputs": [
    {
     "data": {
      "image/png": "[encoded data removed]",
      "text/plain": [
       "<Figure size 612.125x540 with 12 Axes>"
      ]
     },
     "metadata": {
      "needs_background": "light"
     },
     "output_type": "display_data"
    }
   ],
   "source": [
    "sns.pairplot(data=df[['Gender', 'Age', 'Annual Income (k$)','Spending Score (1-100)']], hue='Gender');"
   ]
  },
  {
   "cell_type": "code",
   "execution_count": null,
   "id": "a643ff06",
   "metadata": {},
   "outputs": [],
   "source": [
    "# Onserve that Annual income and Spending score show some pattern.\n",
    "# Other than the previously made observations, the above pairplot doesnt show any noticeable genderwise patterns"
   ]
  },
  {
   "cell_type": "code",
   "execution_count": 35,
   "id": "b98b89f7",
   "metadata": {},
   "outputs": [
    {
     "data": {
      "text/plain": [
       "<AxesSubplot:>"
      ]
     },
     "execution_count": 35,
     "metadata": {},
     "output_type": "execute_result"
    },
    {
     "data": {
      "image/png": "[encoded data removed]",
      "text/plain": [
       "<Figure size 432x288 with 2 Axes>"
      ]
     },
     "metadata": {
      "needs_background": "light"
     },
     "output_type": "display_data"
    }
   ],
   "source": [
    "sns.heatmap(df[['Gender', 'Age', 'Annual Income (k$)','Spending Score (1-100)']].corr(),annot=True, cmap='coolwarm')"
   ]
  },
  {
   "cell_type": "code",
   "execution_count": null,
   "id": "36b39f7a",
   "metadata": {},
   "outputs": [],
   "source": [
    "# The above heatmap indicates a weak or possibly no correlation between the variables."
   ]
  },
  {
   "cell_type": "markdown",
   "id": "40bd17bc",
   "metadata": {},
   "source": [
    "# Bivariate Clustering"
   ]
  },
  {
   "cell_type": "code",
   "execution_count": 101,
   "id": "e6b269d4",
   "metadata": {},
   "outputs": [
    {
     "data": {
      "text/plain": [
       "[<matplotlib.lines.Line2D at 0x1dcb8e90730>]"
      ]
     },
     "execution_count": 101,
     "metadata": {},
     "output_type": "execute_result"
    },
    {
     "data": {
      "image/png": "[encoded data removed]",
      "text/plain": [
       "<Figure size 432x288 with 1 Axes>"
      ]
     },
     "metadata": {
      "needs_background": "light"
     },
     "output_type": "display_data"
    }
   ],
   "source": [
    "inertia_scores=[]\n",
    "for i in range(1,11):\n",
    "    kmeans=KMeans(n_clusters=i)\n",
    "    kmeans.fit(df[['Annual Income (k$)','Spending Score (1-100)']])\n",
    "    inertia_scores.append(kmeans.inertia_)\n",
    "plt.plot(range(1,11), inertia_scores)"
   ]
  },
  {
   "cell_type": "code",
   "execution_count": 102,
   "id": "4877b317",
   "metadata": {},
   "outputs": [],
   "source": [
    "clustering_1=KMeans(n_clusters=5)\n",
    "clustering_1.fit(df[['Annual Income (k$)','Spending Score (1-100)']])\n",
    "df['Spending and Income cluster']=clustering_1.labels_\n"
   ]
  },
  {
   "cell_type": "code",
   "execution_count": 103,
   "id": "1a078b9c",
   "metadata": {},
   "outputs": [
    {
     "data": {
      "text/plain": [
       "<AxesSubplot:xlabel='Annual Income (k$)', ylabel='Spending Score (1-100)'>"
      ]
     },
     "execution_count": 103,
     "metadata": {},
     "output_type": "execute_result"
    },
    {
     "data": {
      "image/png": "[encoded data removed]",
      "text/plain": [
       "<Figure size 720x576 with 1 Axes>"
      ]
     },
     "metadata": {
      "needs_background": "light"
     },
     "output_type": "display_data"
    }
   ],
   "source": [
    "plt.figure(figsize=(10,8))\n",
    "sns.scatterplot(data=df, x='Annual Income (k$)',y='Spending Score (1-100)', hue='Spending and Income cluster', palette='tab10')"
   ]
  },
  {
   "cell_type": "code",
   "execution_count": 105,
   "id": "e9fca4ef",
   "metadata": {},
   "outputs": [
    {
     "data": {
      "text/plain": [
       "Spending and Income cluster\n",
       "0    39\n",
       "1    23\n",
       "2    35\n",
       "3    22\n",
       "4    81\n",
       "Name: Age, dtype: int64"
      ]
     },
     "execution_count": 105,
     "metadata": {},
     "output_type": "execute_result"
    }
   ],
   "source": [
    "# Number of people in each cluster\n",
    "\n",
    "df.groupby('Spending and Income cluster')['Age'].count()"
   ]
  },
  {
   "cell_type": "code",
   "execution_count": null,
   "id": "9a9a1037",
   "metadata": {},
   "outputs": [],
   "source": [
    "# Cluster 2 is of interest since the people in the cluster are high earners but are low when it comes to spending\n",
    "\n",
    "# Cluster 1 and 3 consist of people with low incomes, they may be more lured to spending more if offered discounts or sales promotions."
   ]
  },
  {
   "cell_type": "code",
   "execution_count": 46,
   "id": "f3c62bef",
   "metadata": {},
   "outputs": [
    {
     "data": {
      "text/html": [
       "<div>\n",
       "<style scoped>\n",
       "    .dataframe tbody tr th:only-of-type {\n",
       "        vertical-align: middle;\n",
       "    }\n",
       "\n",
       "    .dataframe tbody tr th {\n",
       "        vertical-align: top;\n",
       "    }\n",
       "\n",
       "    .dataframe thead th {\n",
       "        text-align: right;\n",
       "    }\n",
       "</style>\n",
       "<table border=\"1\" class=\"dataframe\">\n",
       "  <thead>\n",
       "    <tr style=\"text-align: right;\">\n",
       "      <th>Gender</th>\n",
       "      <th>Female</th>\n",
       "      <th>Male</th>\n",
       "    </tr>\n",
       "    <tr>\n",
       "      <th>Spending and Income cluster</th>\n",
       "      <th></th>\n",
       "      <th></th>\n",
       "    </tr>\n",
       "  </thead>\n",
       "  <tbody>\n",
       "    <tr>\n",
       "      <th>0</th>\n",
       "      <td>0.538462</td>\n",
       "      <td>0.461538</td>\n",
       "    </tr>\n",
       "    <tr>\n",
       "      <th>1</th>\n",
       "      <td>0.592593</td>\n",
       "      <td>0.407407</td>\n",
       "    </tr>\n",
       "    <tr>\n",
       "      <th>2</th>\n",
       "      <td>0.590909</td>\n",
       "      <td>0.409091</td>\n",
       "    </tr>\n",
       "    <tr>\n",
       "      <th>3</th>\n",
       "      <td>0.457143</td>\n",
       "      <td>0.542857</td>\n",
       "    </tr>\n",
       "    <tr>\n",
       "      <th>4</th>\n",
       "      <td>0.608696</td>\n",
       "      <td>0.391304</td>\n",
       "    </tr>\n",
       "  </tbody>\n",
       "</table>\n",
       "</div>"
      ],
      "text/plain": [
       "Gender                         Female      Male\n",
       "Spending and Income cluster                    \n",
       "0                            0.538462  0.461538\n",
       "1                            0.592593  0.407407\n",
       "2                            0.590909  0.409091\n",
       "3                            0.457143  0.542857\n",
       "4                            0.608696  0.391304"
      ]
     },
     "execution_count": 46,
     "metadata": {},
     "output_type": "execute_result"
    }
   ],
   "source": [
    "# Genderwise proportion of visitors in each cluster \n",
    "\n",
    "pd.crosstab(df['Spending and Income cluster'],df['Gender'], normalize='index')"
   ]
  },
  {
   "cell_type": "code",
   "execution_count": 106,
   "id": "1b28d6d7",
   "metadata": {},
   "outputs": [
    {
     "data": {
      "text/html": [
       "<div>\n",
       "<style scoped>\n",
       "    .dataframe tbody tr th:only-of-type {\n",
       "        vertical-align: middle;\n",
       "    }\n",
       "\n",
       "    .dataframe tbody tr th {\n",
       "        vertical-align: top;\n",
       "    }\n",
       "\n",
       "    .dataframe thead th {\n",
       "        text-align: right;\n",
       "    }\n",
       "</style>\n",
       "<table border=\"1\" class=\"dataframe\">\n",
       "  <thead>\n",
       "    <tr style=\"text-align: right;\">\n",
       "      <th></th>\n",
       "      <th>Age</th>\n",
       "      <th>Annual Income (k$)</th>\n",
       "      <th>Spending Score (1-100)</th>\n",
       "    </tr>\n",
       "    <tr>\n",
       "      <th>Spending and Income cluster</th>\n",
       "      <th></th>\n",
       "      <th></th>\n",
       "      <th></th>\n",
       "    </tr>\n",
       "  </thead>\n",
       "  <tbody>\n",
       "    <tr>\n",
       "      <th>0</th>\n",
       "      <td>32.692308</td>\n",
       "      <td>86.538462</td>\n",
       "      <td>82.128205</td>\n",
       "    </tr>\n",
       "    <tr>\n",
       "      <th>1</th>\n",
       "      <td>45.217391</td>\n",
       "      <td>26.304348</td>\n",
       "      <td>20.913043</td>\n",
       "    </tr>\n",
       "    <tr>\n",
       "      <th>2</th>\n",
       "      <td>41.114286</td>\n",
       "      <td>88.200000</td>\n",
       "      <td>17.114286</td>\n",
       "    </tr>\n",
       "    <tr>\n",
       "      <th>3</th>\n",
       "      <td>25.272727</td>\n",
       "      <td>25.727273</td>\n",
       "      <td>79.363636</td>\n",
       "    </tr>\n",
       "    <tr>\n",
       "      <th>4</th>\n",
       "      <td>42.716049</td>\n",
       "      <td>55.296296</td>\n",
       "      <td>49.518519</td>\n",
       "    </tr>\n",
       "  </tbody>\n",
       "</table>\n",
       "</div>"
      ],
      "text/plain": [
       "                                   Age  Annual Income (k$)  \\\n",
       "Spending and Income cluster                                  \n",
       "0                            32.692308           86.538462   \n",
       "1                            45.217391           26.304348   \n",
       "2                            41.114286           88.200000   \n",
       "3                            25.272727           25.727273   \n",
       "4                            42.716049           55.296296   \n",
       "\n",
       "                             Spending Score (1-100)  \n",
       "Spending and Income cluster                          \n",
       "0                                         82.128205  \n",
       "1                                         20.913043  \n",
       "2                                         17.114286  \n",
       "3                                         79.363636  \n",
       "4                                         49.518519  "
      ]
     },
     "execution_count": 106,
     "metadata": {},
     "output_type": "execute_result"
    }
   ],
   "source": [
    "df.groupby('Spending and Income cluster')['Age', 'Annual Income (k$)','Spending Score (1-100)'].mean()"
   ]
  },
  {
   "cell_type": "code",
   "execution_count": 107,
   "id": "fee667ea",
   "metadata": {},
   "outputs": [
    {
     "data": {
      "text/html": [
       "<div>\n",
       "<style scoped>\n",
       "    .dataframe tbody tr th:only-of-type {\n",
       "        vertical-align: middle;\n",
       "    }\n",
       "\n",
       "    .dataframe tbody tr th {\n",
       "        vertical-align: top;\n",
       "    }\n",
       "\n",
       "    .dataframe thead th {\n",
       "        text-align: right;\n",
       "    }\n",
       "</style>\n",
       "<table border=\"1\" class=\"dataframe\">\n",
       "  <thead>\n",
       "    <tr style=\"text-align: right;\">\n",
       "      <th></th>\n",
       "      <th>Age</th>\n",
       "      <th>Annual Income (k$)</th>\n",
       "      <th>Spending Score (1-100)</th>\n",
       "      <th>Spending and Income cluster</th>\n",
       "      <th>Gender_Male</th>\n",
       "    </tr>\n",
       "  </thead>\n",
       "  <tbody>\n",
       "    <tr>\n",
       "      <th>0</th>\n",
       "      <td>19</td>\n",
       "      <td>15</td>\n",
       "      <td>39</td>\n",
       "      <td>1</td>\n",
       "      <td>1</td>\n",
       "    </tr>\n",
       "    <tr>\n",
       "      <th>1</th>\n",
       "      <td>21</td>\n",
       "      <td>15</td>\n",
       "      <td>81</td>\n",
       "      <td>3</td>\n",
       "      <td>1</td>\n",
       "    </tr>\n",
       "    <tr>\n",
       "      <th>2</th>\n",
       "      <td>20</td>\n",
       "      <td>16</td>\n",
       "      <td>6</td>\n",
       "      <td>1</td>\n",
       "      <td>0</td>\n",
       "    </tr>\n",
       "    <tr>\n",
       "      <th>3</th>\n",
       "      <td>23</td>\n",
       "      <td>16</td>\n",
       "      <td>77</td>\n",
       "      <td>3</td>\n",
       "      <td>0</td>\n",
       "    </tr>\n",
       "    <tr>\n",
       "      <th>4</th>\n",
       "      <td>31</td>\n",
       "      <td>17</td>\n",
       "      <td>40</td>\n",
       "      <td>1</td>\n",
       "      <td>0</td>\n",
       "    </tr>\n",
       "  </tbody>\n",
       "</table>\n",
       "</div>"
      ],
      "text/plain": [
       "   Age  Annual Income (k$)  Spending Score (1-100)  \\\n",
       "0   19                  15                      39   \n",
       "1   21                  15                      81   \n",
       "2   20                  16                       6   \n",
       "3   23                  16                      77   \n",
       "4   31                  17                      40   \n",
       "\n",
       "   Spending and Income cluster  Gender_Male  \n",
       "0                            1            1  \n",
       "1                            3            1  \n",
       "2                            1            0  \n",
       "3                            3            0  \n",
       "4                            1            0  "
      ]
     },
     "execution_count": 107,
     "metadata": {},
     "output_type": "execute_result"
    }
   ],
   "source": [
    "dff=pd.get_dummies(df, drop_first=True)\n",
    "dff.head()"
   ]
  },
  {
   "cell_type": "code",
   "execution_count": 108,
   "id": "bf984325",
   "metadata": {},
   "outputs": [
    {
     "data": {
      "text/plain": [
       "Index(['Age', 'Annual Income (k$)', 'Spending Score (1-100)',\n",
       "       'Spending and Income cluster', 'Gender_Male'],\n",
       "      dtype='object')"
      ]
     },
     "execution_count": 108,
     "metadata": {},
     "output_type": "execute_result"
    }
   ],
   "source": [
    "dff.columns"
   ]
  },
  {
   "cell_type": "code",
   "execution_count": 109,
   "id": "76b3eba8",
   "metadata": {},
   "outputs": [],
   "source": [
    "dff=dff[[ 'Age', 'Annual Income (k$)', 'Spending Score (1-100)', 'Gender_Male']]"
   ]
  },
  {
   "cell_type": "code",
   "execution_count": 110,
   "id": "261011de",
   "metadata": {},
   "outputs": [],
   "source": [
    "scale=StandardScaler()\n",
    "dff=pd.DataFrame(scale.fit_transform(dff))"
   ]
  },
  {
   "cell_type": "code",
   "execution_count": null,
   "id": "b56bb4ac",
   "metadata": {},
   "outputs": [],
   "source": []
  },
  {
   "cell_type": "code",
   "execution_count": 111,
   "id": "a03e7707",
   "metadata": {},
   "outputs": [
    {
     "data": {
      "text/plain": [
       "[<matplotlib.lines.Line2D at 0x1dcb8f60640>]"
      ]
     },
     "execution_count": 111,
     "metadata": {},
     "output_type": "execute_result"
    },
    {
     "data": {
      "image/png": "[encoded data removed]",
      "text/plain": [
       "<Figure size 432x288 with 1 Axes>"
      ]
     },
     "metadata": {
      "needs_background": "light"
     },
     "output_type": "display_data"
    }
   ],
   "source": [
    "inertia_scores2=[]\n",
    "for i in range(1,11):\n",
    "    kmeans2=KMeans(n_clusters=i)\n",
    "    kmeans2.fit(dff)\n",
    "    inertia_scores2.append(kmeans2.inertia_)\n",
    "plt.plot(range(1,11), inertia_scores2)"
   ]
  },
  {
   "cell_type": "code",
   "execution_count": 112,
   "id": "ed6cbb75",
   "metadata": {},
   "outputs": [],
   "source": [
    "clustering_2=KMeans(n_clusters=4)\n",
    "clustering_2.fit(dff)\n",
    "dff['Multi cluster']=clustering_2.labels_"
   ]
  },
  {
   "cell_type": "code",
   "execution_count": 113,
   "id": "fc647631",
   "metadata": {},
   "outputs": [
    {
     "data": {
      "text/plain": [
       "Index([0, 1, 2, 3, 'Multi cluster'], dtype='object')"
      ]
     },
     "execution_count": 113,
     "metadata": {},
     "output_type": "execute_result"
    }
   ],
   "source": [
    "dff.columns"
   ]
  },
  {
   "cell_type": "code",
   "execution_count": 114,
   "id": "626d91dc",
   "metadata": {},
   "outputs": [
    {
     "data": {
      "application/vnd.plotly.v1+json": {
       "config": {
        "plotlyServerURL": "https://plot.ly"
       },
       "data": [
        {
         "marker": {
          "color": 0,
          "colorscale": [
           [
            0,
            "#440154"
           ],
           [
            0.1111111111111111,
            "#482878"
           ],
           [
            0.2222222222222222,
            "#3e4989"
           ],
           [
            0.3333333333333333,
            "#31688e"
           ],
           [
            0.4444444444444444,
            "#26828e"
           ],
           [
            0.5555555555555556,
            "#1f9e89"
           ],
           [
            0.6666666666666666,
            "#35b779"
           ],
           [
            0.7777777777777778,
            "#6ece58"
           ],
           [
            0.8888888888888888,
            "#b5de2b"
           ],
           [
            1,
            "#fde725"
           ]
          ],
          "opacity": 0.8,
          "size": 5
         },
         "mode": "markers",
         "name": "Cluster 0",
         "type": "scatter3d",
         "x": [
          -1.5863214763788591,
          -1.5863214763788591,
          -1.5481520472070869,
          -1.4336437596917697,
          -1.3954743305199975,
          -1.1664577554893631,
          -1.0519494679740462,
          -0.8229328929434121,
          -0.6702551762563226,
          -0.6702551762563226,
          -0.6320857470845502,
          -0.5557468887410055,
          -0.5557468887410055,
          -0.4794080303974609,
          -0.44123860122568853,
          -0.2503914553668267,
          -0.2503914553668267,
          -0.2503914553668267,
          -0.2503914553668267,
          -0.2503914553668267,
          -0.021374880336192604,
          0.01679454883557975,
          0.0549639780073521,
          0.0549639780073521,
          0.09313340717912445,
          0.09313340717912445,
          0.09313340717912445,
          0.09313340717912445,
          0.3984888405533033,
          0.3984888405533033,
          0.3984888405533033,
          0.6275054155839375,
          0.6275054155839375,
          0.6656748447557098,
          0.6656748447557098,
          0.6656748447557098,
          0.9328608489581163,
          0.9710302781298886,
          1.009199707301661,
          1.009199707301661,
          1.0473691364734332,
          1.238216282332295,
          1.429063428191157,
          2.0016048657677423,
          2.9176711658902788
         ],
         "y": [
          -1.832377665584267,
          -1.405340497757425,
          -1.444162058468956,
          -0.823017087084459,
          -0.5900877228152724,
          -1.7935561048727358,
          -1.7935561048727358,
          -0.5512661621037414,
          0.38045129497300445,
          -0.357158358546086,
          -0.16305055498843063,
          -0.16305055498843063,
          0.22516505212688012,
          0.03105724856922475,
          0.18634349141534906,
          -0.12422899427689955,
          -0.08540743356536848,
          0.03105724856922475,
          -0.357158358546086,
          -0.16305055498843063,
          -0.046585872853837404,
          -0.31833679783455493,
          0.34162973426147336,
          0.22516505212688012,
          -0.16305055498843063,
          -0.27951523712302384,
          -0.08540743356536848,
          0.06987880928075582,
          -0.5900877228152724,
          -1.5218051798920182,
          -1.5994483013150804,
          -1.4829836191804873,
          -0.5512661621037414,
          -1.288875815622832,
          -1.9100207870073291,
          -1.9100207870073291,
          -0.9394817692190521,
          -1.1724111334882386,
          -1.444162058468956,
          -1.5606267406035494,
          -1.3665189370458939,
          -1.405340497757425,
          -1.3665189370458939,
          -1.6382698620266116,
          -1.2500542549113007
         ],
         "z": [
          1.1281521496355325,
          1.1281521496355325,
          1.1281521496355325,
          1.1281521496355325,
          1.1281521496355325,
          1.1281521496355325,
          1.1281521496355325,
          1.1281521496355325,
          1.1281521496355325,
          1.1281521496355325,
          1.1281521496355325,
          1.1281521496355325,
          1.1281521496355325,
          1.1281521496355325,
          1.1281521496355325,
          1.1281521496355325,
          1.1281521496355325,
          1.1281521496355325,
          1.1281521496355325,
          1.1281521496355325,
          1.1281521496355325,
          1.1281521496355325,
          1.1281521496355325,
          1.1281521496355325,
          1.1281521496355325,
          1.1281521496355325,
          1.1281521496355325,
          1.1281521496355325,
          1.1281521496355325,
          1.1281521496355325,
          1.1281521496355325,
          1.1281521496355325,
          1.1281521496355325,
          1.1281521496355325,
          1.1281521496355325,
          1.1281521496355325,
          1.1281521496355325,
          1.1281521496355325,
          1.1281521496355325,
          1.1281521496355325,
          1.1281521496355325,
          1.1281521496355325,
          1.1281521496355325,
          1.1281521496355325,
          1.1281521496355325
         ]
        },
        {
         "marker": {
          "color": 1,
          "colorscale": [
           [
            0,
            "#440154"
           ],
           [
            0.1111111111111111,
            "#482878"
           ],
           [
            0.2222222222222222,
            "#3e4989"
           ],
           [
            0.3333333333333333,
            "#31688e"
           ],
           [
            0.4444444444444444,
            "#26828e"
           ],
           [
            0.5555555555555556,
            "#1f9e89"
           ],
           [
            0.6666666666666666,
            "#35b779"
           ],
           [
            0.7777777777777778,
            "#6ece58"
           ],
           [
            0.8888888888888888,
            "#b5de2b"
           ],
           [
            1,
            "#fde725"
           ]
          ],
          "opacity": 0.8,
          "size": 5
         },
         "mode": "markers",
         "name": "Cluster 1",
         "type": "scatter3d",
         "x": [
          -1.7389991930659485,
          -1.7389991930659485,
          -1.5481520472070869,
          -1.5099826180353144,
          -1.3954743305199975,
          -1.357304901348225,
          -1.2427966138329078,
          -1.2427966138329078,
          -1.0519494679740462,
          -0.8611023221151844,
          -0.7084246054280949,
          -0.5557468887410055,
          -0.4794080303974609,
          -0.4794080303974609,
          -0.2503914553668267,
          -0.2503914553668267,
          -0.05954430950796496,
          -0.021374880336192604,
          0.01679454883557975,
          0.0549639780073521,
          0.13130283635089682,
          0.24581112386621387,
          0.3221499822097586,
          0.3984888405533033,
          0.3984888405533033,
          0.3984888405533033,
          0.474827698896848,
          0.474827698896848,
          0.5129971280686204,
          0.5511665572403928,
          0.6275054155839375,
          0.6656748447557098,
          0.6656748447557098,
          0.7801831322710269,
          1.009199707301661,
          1.009199707301661,
          1.009199707301661,
          1.0473691364734332,
          1.238216282332295,
          1.4672328573629292,
          1.543571715706474,
          2.4978074450007828,
          2.9176711658902788
         ],
         "y": [
          -0.43480147996914814,
          1.195704069915157,
          1.118060948492095,
          0.6133806592421909,
          0.8851315842229084,
          0.8851315842229084,
          1.234525630626688,
          0.4192728556845355,
          1.622741237741999,
          1.622741237741999,
          0.38045129497300445,
          0.18634349141534906,
          0.34162973426147336,
          0.34162973426147336,
          0.14752193070381797,
          0.18634349141534906,
          -0.357158358546086,
          0.06987880928075582,
          -0.046585872853837404,
          0.18634349141534906,
          -0.16305055498843063,
          0.22516505212688012,
          1.5839196770304678,
          1.7392059198765921,
          0.9627747056459706,
          0.9627747056459706,
          -1.7547345441612048,
          0.8851315842229084,
          -1.5606267406035494,
          1.66156279845353,
          1.8168490412996543,
          1.5450981163189368,
          1.4674549948958746,
          -1.7547345441612048,
          0.49691597710759766,
          0.9627747056459706,
          1.622741237741999,
          0.7298453413767841,
          1.5450981163189368,
          1.8168490412996543,
          0.691023780665253,
          0.9239531449344395,
          1.2733471913382193
         ],
         "z": [
          1.1281521496355325,
          1.1281521496355325,
          1.1281521496355325,
          1.1281521496355325,
          1.1281521496355325,
          1.1281521496355325,
          1.1281521496355325,
          1.1281521496355325,
          1.1281521496355325,
          1.1281521496355325,
          1.1281521496355325,
          1.1281521496355325,
          1.1281521496355325,
          1.1281521496355325,
          1.1281521496355325,
          1.1281521496355325,
          1.1281521496355325,
          1.1281521496355325,
          1.1281521496355325,
          1.1281521496355325,
          1.1281521496355325,
          1.1281521496355325,
          1.1281521496355325,
          1.1281521496355325,
          1.1281521496355325,
          1.1281521496355325,
          1.1281521496355325,
          1.1281521496355325,
          1.1281521496355325,
          1.1281521496355325,
          1.1281521496355325,
          1.1281521496355325,
          1.1281521496355325,
          1.1281521496355325,
          1.1281521496355325,
          1.1281521496355325,
          1.1281521496355325,
          1.1281521496355325,
          1.1281521496355325,
          1.1281521496355325,
          1.1281521496355325,
          1.1281521496355325,
          1.1281521496355325
         ]
        },
        {
         "marker": {
          "color": 2,
          "colorscale": [
           [
            0,
            "#440154"
           ],
           [
            0.1111111111111111,
            "#482878"
           ],
           [
            0.2222222222222222,
            "#3e4989"
           ],
           [
            0.3333333333333333,
            "#31688e"
           ],
           [
            0.4444444444444444,
            "#26828e"
           ],
           [
            0.5555555555555556,
            "#1f9e89"
           ],
           [
            0.6666666666666666,
            "#35b779"
           ],
           [
            0.7777777777777778,
            "#6ece58"
           ],
           [
            0.8888888888888888,
            "#b5de2b"
           ],
           [
            1,
            "#fde725"
           ]
          ],
          "opacity": 0.8,
          "size": 5
         },
         "mode": "markers",
         "name": "Cluster 2",
         "type": "scatter3d",
         "x": [
          -1.7008297638941763,
          -1.6626603347224038,
          -1.6244909055506316,
          -1.5863214763788591,
          -1.5863214763788591,
          -1.5481520472070869,
          -1.4336437596917697,
          -1.2046271846611356,
          -1.1664577554893631,
          -1.0519494679740462,
          -1.0137800388022737,
          -0.8992717512869568,
          -0.8229328929434121,
          -0.8229328929434121,
          -0.7847634637716397,
          -0.7847634637716397,
          -0.7847634637716397,
          -0.6702551762563226,
          -0.5557468887410055,
          -0.4794080303974609,
          -0.2503914553668267,
          -0.2503914553668267,
          -0.13588316785150967,
          -0.09771373867973732,
          -0.021374880336192604,
          -0.021374880336192604,
          0.0549639780073521,
          0.0549639780073521,
          0.09313340717912445,
          0.16947226552266917,
          0.16947226552266917,
          0.3221499822097586,
          0.36031941138153095,
          0.36031941138153095,
          0.43665826972507565,
          0.43665826972507565,
          0.474827698896848,
          0.5129971280686204,
          0.5893359864121651,
          0.5893359864121651,
          0.6275054155839375,
          0.6656748447557098,
          0.6656748447557098,
          0.6656748447557098,
          0.6656748447557098,
          0.7038442739274822,
          0.7801831322710269,
          0.9328608489581163,
          0.9710302781298886,
          1.0473691364734332,
          1.3908939990193845,
          1.429063428191157,
          1.6199105740500186,
          1.6199105740500186,
          2.0016048657677423,
          2.2687908699701484
         ],
         "y": [
          1.0404178270690327,
          1.0015962663575015,
          1.700384359165061,
          0.8463100235113773,
          1.8944921627227165,
          1.0404178270690327,
          1.8556706020111853,
          1.4286334341843434,
          0.8851315842229084,
          1.195704069915157,
          0.8851315842229084,
          0.9627747056459706,
          0.4192728556845355,
          0.5745590985306598,
          -0.12422899427689955,
          -0.31833679783455493,
          -0.31833679783455493,
          0.14752193070381797,
          0.03105724856922475,
          -0.12422899427689955,
          0.06987880928075582,
          0.2639866128384112,
          0.18634349141534906,
          0.38045129497300445,
          -0.31833679783455493,
          -0.007764312142306325,
          -0.357158358546086,
          -0.31833679783455493,
          0.14752193070381797,
          -0.08540743356536848,
          -0.007764312142306325,
          0.30280817354994227,
          -0.823017087084459,
          1.0404178270690327,
          -0.6289092835268035,
          0.8074884627998463,
          1.4674549948958746,
          0.8463100235113773,
          -0.3959799192576171,
          1.4286334341843434,
          0.9239531449344395,
          1.0015962663575015,
          1.5062765556074056,
          1.0792393877805637,
          0.8851315842229084,
          1.2733471913382193,
          1.66156279845353,
          0.9627747056459706,
          1.7392059198765921,
          1.3898118734728124,
          1.3898118734728124,
          1.4674549948958746,
          1.3509903127612812,
          0.7298453413767841,
          1.5839196770304678,
          1.118060948492095
         ],
         "z": [
          -0.8864052604279183,
          -0.8864052604279183,
          -0.8864052604279183,
          -0.8864052604279183,
          -0.8864052604279183,
          -0.8864052604279183,
          -0.8864052604279183,
          -0.8864052604279183,
          -0.8864052604279183,
          -0.8864052604279183,
          -0.8864052604279183,
          -0.8864052604279183,
          -0.8864052604279183,
          -0.8864052604279183,
          -0.8864052604279183,
          -0.8864052604279183,
          -0.8864052604279183,
          -0.8864052604279183,
          -0.8864052604279183,
          -0.8864052604279183,
          -0.8864052604279183,
          -0.8864052604279183,
          -0.8864052604279183,
          -0.8864052604279183,
          -0.8864052604279183,
          -0.8864052604279183,
          -0.8864052604279183,
          -0.8864052604279183,
          -0.8864052604279183,
          -0.8864052604279183,
          -0.8864052604279183,
          -0.8864052604279183,
          -0.8864052604279183,
          -0.8864052604279183,
          -0.8864052604279183,
          -0.8864052604279183,
          -0.8864052604279183,
          -0.8864052604279183,
          -0.8864052604279183,
          -0.8864052604279183,
          -0.8864052604279183,
          -0.8864052604279183,
          -0.8864052604279183,
          -0.8864052604279183,
          -0.8864052604279183,
          -0.8864052604279183,
          -0.8864052604279183,
          -0.8864052604279183,
          -0.8864052604279183,
          -0.8864052604279183,
          -0.8864052604279183,
          -0.8864052604279183,
          -0.8864052604279183,
          -0.8864052604279183,
          -0.8864052604279183,
          -0.8864052604279183
         ]
        },
        {
         "marker": {
          "color": 3,
          "colorscale": [
           [
            0,
            "#440154"
           ],
           [
            0.1111111111111111,
            "#482878"
           ],
           [
            0.2222222222222222,
            "#3e4989"
           ],
           [
            0.3333333333333333,
            "#31688e"
           ],
           [
            0.4444444444444444,
            "#26828e"
           ],
           [
            0.5555555555555556,
            "#1f9e89"
           ],
           [
            0.6666666666666666,
            "#35b779"
           ],
           [
            0.7777777777777778,
            "#6ece58"
           ],
           [
            0.8888888888888888,
            "#b5de2b"
           ],
           [
            1,
            "#fde725"
           ]
          ],
          "opacity": 0.8,
          "size": 5
         },
         "mode": "markers",
         "name": "Cluster 3",
         "type": "scatter3d",
         "x": [
          -1.7008297638941763,
          -1.6626603347224038,
          -1.6244909055506316,
          -1.5481520472070869,
          -1.5099826180353144,
          -1.357304901348225,
          -1.2427966138329078,
          -1.2427966138329078,
          -1.2046271846611356,
          -1.0519494679740462,
          -1.0137800388022737,
          -0.8992717512869568,
          -0.8611023221151844,
          -0.8229328929434121,
          -0.7847634637716397,
          -0.7084246054280949,
          -0.6702551762563226,
          -0.6320857470845502,
          -0.5175774595692332,
          -0.5175774595692332,
          -0.4794080303974609,
          -0.4794080303974609,
          -0.44123860122568853,
          -0.4030691720539161,
          -0.4030691720539161,
          -0.2503914553668267,
          -0.2503914553668267,
          -0.2503914553668267,
          -0.13588316785150967,
          -0.09771373867973732,
          -0.05954430950796496,
          -0.021374880336192604,
          -0.021374880336192604,
          0.0549639780073521,
          0.09313340717912445,
          0.13130283635089682,
          0.16947226552266917,
          0.16947226552266917,
          0.24581112386621387,
          0.24581112386621387,
          0.24581112386621387,
          0.474827698896848,
          0.5511665572403928,
          0.6656748447557098,
          0.6656748447557098,
          0.6656748447557098,
          0.7038442739274822,
          1.009199707301661,
          1.0473691364734332,
          1.3908939990193845,
          1.4672328573629292,
          1.543571715706474,
          1.6199105740500186,
          1.6199105740500186,
          2.2687908699701484,
          2.4978074450007828
         ],
         "y": [
          -1.7159129834496736,
          -0.3959799192576171,
          -1.7159129834496736,
          -1.3665189370458939,
          -0.5900877228152724,
          -1.7547345441612048,
          -1.405340497757425,
          -0.7065524049498657,
          -0.7453739656613968,
          -1.405340497757425,
          -1.288875815622832,
          -0.9394817692190521,
          -0.5900877228152724,
          -0.86183864779599,
          0.18634349141534906,
          0.06987880928075582,
          -0.20187211569996172,
          -0.007764312142306325,
          0.06987880928075582,
          0.34162973426147336,
          -0.007764312142306325,
          -0.08540743356536848,
          -0.31833679783455493,
          -0.046585872853837404,
          0.22516505212688012,
          0.1087003699922869,
          -0.31833679783455493,
          -0.24069367641149278,
          0.30280817354994227,
          -0.16305055498843063,
          0.18634349141534906,
          -0.3959799192576171,
          -0.12422899427689955,
          -0.08540743356536848,
          -0.007764312142306325,
          -0.31833679783455493,
          -0.27951523712302384,
          0.34162973426147336,
          -0.27951523712302384,
          0.2639866128384112,
          -0.3959799192576171,
          -1.6770914227381426,
          -1.7547345441612048,
          -1.0947680120651764,
          -1.1724111334882386,
          -1.327697376334363,
          -0.5900877228152724,
          -0.900660208507521,
          -1.444162058468956,
          -0.7065524049498657,
          -0.43480147996914814,
          -1.0171248906421142,
          -1.288875815622832,
          -1.0559464513536454,
          -1.327697376334363,
          -0.86183864779599
         ],
         "z": [
          -0.8864052604279183,
          -0.8864052604279183,
          -0.8864052604279183,
          -0.8864052604279183,
          -0.8864052604279183,
          -0.8864052604279183,
          -0.8864052604279183,
          -0.8864052604279183,
          -0.8864052604279183,
          -0.8864052604279183,
          -0.8864052604279183,
          -0.8864052604279183,
          -0.8864052604279183,
          -0.8864052604279183,
          -0.8864052604279183,
          -0.8864052604279183,
          -0.8864052604279183,
          -0.8864052604279183,
          -0.8864052604279183,
          -0.8864052604279183,
          -0.8864052604279183,
          -0.8864052604279183,
          -0.8864052604279183,
          -0.8864052604279183,
          -0.8864052604279183,
          -0.8864052604279183,
          -0.8864052604279183,
          -0.8864052604279183,
          -0.8864052604279183,
          -0.8864052604279183,
          -0.8864052604279183,
          -0.8864052604279183,
          -0.8864052604279183,
          -0.8864052604279183,
          -0.8864052604279183,
          -0.8864052604279183,
          -0.8864052604279183,
          -0.8864052604279183,
          -0.8864052604279183,
          -0.8864052604279183,
          -0.8864052604279183,
          -0.8864052604279183,
          -0.8864052604279183,
          -0.8864052604279183,
          -0.8864052604279183,
          -0.8864052604279183,
          -0.8864052604279183,
          -0.8864052604279183,
          -0.8864052604279183,
          -0.8864052604279183,
          -0.8864052604279183,
          -0.8864052604279183,
          -0.8864052604279183,
          -0.8864052604279183,
          -0.8864052604279183,
          -0.8864052604279183
         ]
        }
       ],
       "layout": {
        "margin": {
         "b": 10,
         "l": 10,
         "r": 20,
         "t": 10
        },
        "scene": {
         "xaxis": {
          "title": {
           "text": "X"
          }
         },
         "yaxis": {
          "title": {
           "text": "Y"
          }
         },
         "zaxis": {
          "title": {
           "text": "Z"
          }
         }
        },
        "template": {
         "data": {
          "bar": [
           {
            "error_x": {
             "color": "#2a3f5f"
            },
            "error_y": {
             "color": "#2a3f5f"
            },
            "marker": {
             "line": {
              "color": "#E5ECF6",
              "width": 0.5
             },
             "pattern": {
              "fillmode": "overlay",
              "size": 10,
              "solidity": 0.2
             }
            },
            "type": "bar"
           }
          ],
          "barpolar": [
           {
            "marker": {
             "line": {
              "color": "#E5ECF6",
              "width": 0.5
             },
             "pattern": {
              "fillmode": "overlay",
              "size": 10,
              "solidity": 0.2
             }
            },
            "type": "barpolar"
           }
          ],
          "carpet": [
           {
            "aaxis": {
             "endlinecolor": "#2a3f5f",
             "gridcolor": "white",
             "linecolor": "white",
             "minorgridcolor": "white",
             "startlinecolor": "#2a3f5f"
            },
            "baxis": {
             "endlinecolor": "#2a3f5f",
             "gridcolor": "white",
             "linecolor": "white",
             "minorgridcolor": "white",
             "startlinecolor": "#2a3f5f"
            },
            "type": "carpet"
           }
          ],
          "choropleth": [
           {
            "colorbar": {
             "outlinewidth": 0,
             "ticks": ""
            },
            "type": "choropleth"
           }
          ],
          "contour": [
           {
            "colorbar": {
             "outlinewidth": 0,
             "ticks": ""
            },
            "colorscale": [
             [
              0,
              "#0d0887"
             ],
             [
              0.1111111111111111,
              "#46039f"
             ],
             [
              0.2222222222222222,
              "#7201a8"
             ],
             [
              0.3333333333333333,
              "#9c179e"
             ],
             [
              0.4444444444444444,
              "#bd3786"
             ],
             [
              0.5555555555555556,
              "#d8576b"
             ],
             [
              0.6666666666666666,
              "#ed7953"
             ],
             [
              0.7777777777777778,
              "#fb9f3a"
             ],
             [
              0.8888888888888888,
              "#fdca26"
             ],
             [
              1,
              "#f0f921"
             ]
            ],
            "type": "contour"
           }
          ],
          "contourcarpet": [
           {
            "colorbar": {
             "outlinewidth": 0,
             "ticks": ""
            },
            "type": "contourcarpet"
           }
          ],
          "heatmap": [
           {
            "colorbar": {
             "outlinewidth": 0,
             "ticks": ""
            },
            "colorscale": [
             [
              0,
              "#0d0887"
             ],
             [
              0.1111111111111111,
              "#46039f"
             ],
             [
              0.2222222222222222,
              "#7201a8"
             ],
             [
              0.3333333333333333,
              "#9c179e"
             ],
             [
              0.4444444444444444,
              "#bd3786"
             ],
             [
              0.5555555555555556,
              "#d8576b"
             ],
             [
              0.6666666666666666,
              "#ed7953"
             ],
             [
              0.7777777777777778,
              "#fb9f3a"
             ],
             [
              0.8888888888888888,
              "#fdca26"
             ],
             [
              1,
              "#f0f921"
             ]
            ],
            "type": "heatmap"
           }
          ],
          "heatmapgl": [
           {
            "colorbar": {
             "outlinewidth": 0,
             "ticks": ""
            },
            "colorscale": [
             [
              0,
              "#0d0887"
             ],
             [
              0.1111111111111111,
              "#46039f"
             ],
             [
              0.2222222222222222,
              "#7201a8"
             ],
             [
              0.3333333333333333,
              "#9c179e"
             ],
             [
              0.4444444444444444,
              "#bd3786"
             ],
             [
              0.5555555555555556,
              "#d8576b"
             ],
             [
              0.6666666666666666,
              "#ed7953"
             ],
             [
              0.7777777777777778,
              "#fb9f3a"
             ],
             [
              0.8888888888888888,
              "#fdca26"
             ],
             [
              1,
              "#f0f921"
             ]
            ],
            "type": "heatmapgl"
           }
          ],
          "histogram": [
           {
            "marker": {
             "pattern": {
              "fillmode": "overlay",
              "size": 10,
              "solidity": 0.2
             }
            },
            "type": "histogram"
           }
          ],
          "histogram2d": [
           {
            "colorbar": {
             "outlinewidth": 0,
             "ticks": ""
            },
            "colorscale": [
             [
              0,
              "#0d0887"
             ],
             [
              0.1111111111111111,
              "#46039f"
             ],
             [
              0.2222222222222222,
              "#7201a8"
             ],
             [
              0.3333333333333333,
              "#9c179e"
             ],
             [
              0.4444444444444444,
              "#bd3786"
             ],
             [
              0.5555555555555556,
              "#d8576b"
             ],
             [
              0.6666666666666666,
              "#ed7953"
             ],
             [
              0.7777777777777778,
              "#fb9f3a"
             ],
             [
              0.8888888888888888,
              "#fdca26"
             ],
             [
              1,
              "#f0f921"
             ]
            ],
            "type": "histogram2d"
           }
          ],
          "histogram2dcontour": [
           {
            "colorbar": {
             "outlinewidth": 0,
             "ticks": ""
            },
            "colorscale": [
             [
              0,
              "#0d0887"
             ],
             [
              0.1111111111111111,
              "#46039f"
             ],
             [
              0.2222222222222222,
              "#7201a8"
             ],
             [
              0.3333333333333333,
              "#9c179e"
             ],
             [
              0.4444444444444444,
              "#bd3786"
             ],
             [
              0.5555555555555556,
              "#d8576b"
             ],
             [
              0.6666666666666666,
              "#ed7953"
             ],
             [
              0.7777777777777778,
              "#fb9f3a"
             ],
             [
              0.8888888888888888,
              "#fdca26"
             ],
             [
              1,
              "#f0f921"
             ]
            ],
            "type": "histogram2dcontour"
           }
          ],
          "mesh3d": [
           {
            "colorbar": {
             "outlinewidth": 0,
             "ticks": ""
            },
            "type": "mesh3d"
           }
          ],
          "parcoords": [
           {
            "line": {
             "colorbar": {
              "outlinewidth": 0,
              "ticks": ""
             }
            },
            "type": "parcoords"
           }
          ],
          "pie": [
           {
            "automargin": true,
            "type": "pie"
           }
          ],
          "scatter": [
           {
            "fillpattern": {
             "fillmode": "overlay",
             "size": 10,
             "solidity": 0.2
            },
            "type": "scatter"
           }
          ],
          "scatter3d": [
           {
            "line": {
             "colorbar": {
              "outlinewidth": 0,
              "ticks": ""
             }
            },
            "marker": {
             "colorbar": {
              "outlinewidth": 0,
              "ticks": ""
             }
            },
            "type": "scatter3d"
           }
          ],
          "scattercarpet": [
           {
            "marker": {
             "colorbar": {
              "outlinewidth": 0,
              "ticks": ""
             }
            },
            "type": "scattercarpet"
           }
          ],
          "scattergeo": [
           {
            "marker": {
             "colorbar": {
              "outlinewidth": 0,
              "ticks": ""
             }
            },
            "type": "scattergeo"
           }
          ],
          "scattergl": [
           {
            "marker": {
             "colorbar": {
              "outlinewidth": 0,
              "ticks": ""
             }
            },
            "type": "scattergl"
           }
          ],
          "scattermapbox": [
           {
            "marker": {
             "colorbar": {
              "outlinewidth": 0,
              "ticks": ""
             }
            },
            "type": "scattermapbox"
           }
          ],
          "scatterpolar": [
           {
            "marker": {
             "colorbar": {
              "outlinewidth": 0,
              "ticks": ""
             }
            },
            "type": "scatterpolar"
           }
          ],
          "scatterpolargl": [
           {
            "marker": {
             "colorbar": {
              "outlinewidth": 0,
              "ticks": ""
             }
            },
            "type": "scatterpolargl"
           }
          ],
          "scatterternary": [
           {
            "marker": {
             "colorbar": {
              "outlinewidth": 0,
              "ticks": ""
             }
            },
            "type": "scatterternary"
           }
          ],
          "surface": [
           {
            "colorbar": {
             "outlinewidth": 0,
             "ticks": ""
            },
            "colorscale": [
             [
              0,
              "#0d0887"
             ],
             [
              0.1111111111111111,
              "#46039f"
             ],
             [
              0.2222222222222222,
              "#7201a8"
             ],
             [
              0.3333333333333333,
              "#9c179e"
             ],
             [
              0.4444444444444444,
              "#bd3786"
             ],
             [
              0.5555555555555556,
              "#d8576b"
             ],
             [
              0.6666666666666666,
              "#ed7953"
             ],
             [
              0.7777777777777778,
              "#fb9f3a"
             ],
             [
              0.8888888888888888,
              "#fdca26"
             ],
             [
              1,
              "#f0f921"
             ]
            ],
            "type": "surface"
           }
          ],
          "table": [
           {
            "cells": {
             "fill": {
              "color": "#EBF0F8"
             },
             "line": {
              "color": "white"
             }
            },
            "header": {
             "fill": {
              "color": "#C8D4E3"
             },
             "line": {
              "color": "white"
             }
            },
            "type": "table"
           }
          ]
         },
         "layout": {
          "annotationdefaults": {
           "arrowcolor": "#2a3f5f",
           "arrowhead": 0,
           "arrowwidth": 1
          },
          "autotypenumbers": "strict",
          "coloraxis": {
           "colorbar": {
            "outlinewidth": 0,
            "ticks": ""
           }
          },
          "colorscale": {
           "diverging": [
            [
             0,
             "#8e0152"
            ],
            [
             0.1,
             "#c51b7d"
            ],
            [
             0.2,
             "#de77ae"
            ],
            [
             0.3,
             "#f1b6da"
            ],
            [
             0.4,
             "#fde0ef"
            ],
            [
             0.5,
             "#f7f7f7"
            ],
            [
             0.6,
             "#e6f5d0"
            ],
            [
             0.7,
             "#b8e186"
            ],
            [
             0.8,
             "#7fbc41"
            ],
            [
             0.9,
             "#4d9221"
            ],
            [
             1,
             "#276419"
            ]
           ],
           "sequential": [
            [
             0,
             "#0d0887"
            ],
            [
             0.1111111111111111,
             "#46039f"
            ],
            [
             0.2222222222222222,
             "#7201a8"
            ],
            [
             0.3333333333333333,
             "#9c179e"
            ],
            [
             0.4444444444444444,
             "#bd3786"
            ],
            [
             0.5555555555555556,
             "#d8576b"
            ],
            [
             0.6666666666666666,
             "#ed7953"
            ],
            [
             0.7777777777777778,
             "#fb9f3a"
            ],
            [
             0.8888888888888888,
             "#fdca26"
            ],
            [
             1,
             "#f0f921"
            ]
           ],
           "sequentialminus": [
            [
             0,
             "#0d0887"
            ],
            [
             0.1111111111111111,
             "#46039f"
            ],
            [
             0.2222222222222222,
             "#7201a8"
            ],
            [
             0.3333333333333333,
             "#9c179e"
            ],
            [
             0.4444444444444444,
             "#bd3786"
            ],
            [
             0.5555555555555556,
             "#d8576b"
            ],
            [
             0.6666666666666666,
             "#ed7953"
            ],
            [
             0.7777777777777778,
             "#fb9f3a"
            ],
            [
             0.8888888888888888,
             "#fdca26"
            ],
            [
             1,
             "#f0f921"
            ]
           ]
          },
          "colorway": [
           "#636efa",
           "#EF553B",
           "#00cc96",
           "#ab63fa",
           "#FFA15A",
           "#19d3f3",
           "#FF6692",
           "#B6E880",
           "#FF97FF",
           "#FECB52"
          ],
          "font": {
           "color": "#2a3f5f"
          },
          "geo": {
           "bgcolor": "white",
           "lakecolor": "white",
           "landcolor": "#E5ECF6",
           "showlakes": true,
           "showland": true,
           "subunitcolor": "white"
          },
          "hoverlabel": {
           "align": "left"
          },
          "hovermode": "closest",
          "mapbox": {
           "style": "light"
          },
          "paper_bgcolor": "white",
          "plot_bgcolor": "#E5ECF6",
          "polar": {
           "angularaxis": {
            "gridcolor": "white",
            "linecolor": "white",
            "ticks": ""
           },
           "bgcolor": "#E5ECF6",
           "radialaxis": {
            "gridcolor": "white",
            "linecolor": "white",
            "ticks": ""
           }
          },
          "scene": {
           "xaxis": {
            "backgroundcolor": "#E5ECF6",
            "gridcolor": "white",
            "gridwidth": 2,
            "linecolor": "white",
            "showbackground": true,
            "ticks": "",
            "zerolinecolor": "white"
           },
           "yaxis": {
            "backgroundcolor": "#E5ECF6",
            "gridcolor": "white",
            "gridwidth": 2,
            "linecolor": "white",
            "showbackground": true,
            "ticks": "",
            "zerolinecolor": "white"
           },
           "zaxis": {
            "backgroundcolor": "#E5ECF6",
            "gridcolor": "white",
            "gridwidth": 2,
            "linecolor": "white",
            "showbackground": true,
            "ticks": "",
            "zerolinecolor": "white"
           }
          },
          "shapedefaults": {
           "line": {
            "color": "#2a3f5f"
           }
          },
          "ternary": {
           "aaxis": {
            "gridcolor": "white",
            "linecolor": "white",
            "ticks": ""
           },
           "baxis": {
            "gridcolor": "white",
            "linecolor": "white",
            "ticks": ""
           },
           "bgcolor": "#E5ECF6",
           "caxis": {
            "gridcolor": "white",
            "linecolor": "white",
            "ticks": ""
           }
          },
          "title": {
           "x": 0.05
          },
          "xaxis": {
           "automargin": true,
           "gridcolor": "white",
           "linecolor": "white",
           "ticks": "",
           "title": {
            "standoff": 15
           },
           "zerolinecolor": "white",
           "zerolinewidth": 2
          },
          "yaxis": {
           "automargin": true,
           "gridcolor": "white",
           "linecolor": "white",
           "ticks": "",
           "title": {
            "standoff": 15
           },
           "zerolinecolor": "white",
           "zerolinewidth": 2
          }
         }
        },
        "width": 800
       }
      },
      "text/html": [
       "<div>                            <div id=\"790e2762-8c62-460b-8d12-87fcffb94c73\" class=\"plotly-graph-div\" style=\"height:525px; width:800px;\"></div>            <script type=\"text/javascript\">                require([\"plotly\"], function(Plotly) {                    window.PLOTLYENV=window.PLOTLYENV || {};                                    if (document.getElementById(\"790e2762-8c62-460b-8d12-87fcffb94c73\")) {                    Plotly.newPlot(                        \"790e2762-8c62-460b-8d12-87fcffb94c73\",                        [{\"marker\":{\"color\":0,\"colorscale\":[[0.0,\"#440154\"],[0.1111111111111111,\"#482878\"],[0.2222222222222222,\"#3e4989\"],[0.3333333333333333,\"#31688e\"],[0.4444444444444444,\"#26828e\"],[0.5555555555555556,\"#1f9e89\"],[0.6666666666666666,\"#35b779\"],[0.7777777777777778,\"#6ece58\"],[0.8888888888888888,\"#b5de2b\"],[1.0,\"#fde725\"]],\"opacity\":0.8,\"size\":5},\"mode\":\"markers\",\"name\":\"Cluster 0\",\"x\":[-1.5863214763788591,-1.5863214763788591,-1.5481520472070869,-1.4336437596917697,-1.3954743305199975,-1.1664577554893631,-1.0519494679740462,-0.8229328929434121,-0.6702551762563226,-0.6702551762563226,-0.6320857470845502,-0.5557468887410055,-0.5557468887410055,-0.4794080303974609,-0.44123860122568853,-0.2503914553668267,-0.2503914553668267,-0.2503914553668267,-0.2503914553668267,-0.2503914553668267,-0.021374880336192604,0.01679454883557975,0.0549639780073521,0.0549639780073521,0.09313340717912445,0.09313340717912445,0.09313340717912445,0.09313340717912445,0.3984888405533033,0.3984888405533033,0.3984888405533033,0.6275054155839375,0.6275054155839375,0.6656748447557098,0.6656748447557098,0.6656748447557098,0.9328608489581163,0.9710302781298886,1.009199707301661,1.009199707301661,1.0473691364734332,1.238216282332295,1.429063428191157,2.0016048657677423,2.9176711658902788],\"y\":[-1.832377665584267,-1.405340497757425,-1.444162058468956,-0.823017087084459,-0.5900877228152724,-1.7935561048727358,-1.7935561048727358,-0.5512661621037414,0.38045129497300445,-0.357158358546086,-0.16305055498843063,-0.16305055498843063,0.22516505212688012,0.03105724856922475,0.18634349141534906,-0.12422899427689955,-0.08540743356536848,0.03105724856922475,-0.357158358546086,-0.16305055498843063,-0.046585872853837404,-0.31833679783455493,0.34162973426147336,0.22516505212688012,-0.16305055498843063,-0.27951523712302384,-0.08540743356536848,0.06987880928075582,-0.5900877228152724,-1.5218051798920182,-1.5994483013150804,-1.4829836191804873,-0.5512661621037414,-1.288875815622832,-1.9100207870073291,-1.9100207870073291,-0.9394817692190521,-1.1724111334882386,-1.444162058468956,-1.5606267406035494,-1.3665189370458939,-1.405340497757425,-1.3665189370458939,-1.6382698620266116,-1.2500542549113007],\"z\":[1.1281521496355325,1.1281521496355325,1.1281521496355325,1.1281521496355325,1.1281521496355325,1.1281521496355325,1.1281521496355325,1.1281521496355325,1.1281521496355325,1.1281521496355325,1.1281521496355325,1.1281521496355325,1.1281521496355325,1.1281521496355325,1.1281521496355325,1.1281521496355325,1.1281521496355325,1.1281521496355325,1.1281521496355325,1.1281521496355325,1.1281521496355325,1.1281521496355325,1.1281521496355325,1.1281521496355325,1.1281521496355325,1.1281521496355325,1.1281521496355325,1.1281521496355325,1.1281521496355325,1.1281521496355325,1.1281521496355325,1.1281521496355325,1.1281521496355325,1.1281521496355325,1.1281521496355325,1.1281521496355325,1.1281521496355325,1.1281521496355325,1.1281521496355325,1.1281521496355325,1.1281521496355325,1.1281521496355325,1.1281521496355325,1.1281521496355325,1.1281521496355325],\"type\":\"scatter3d\"},{\"marker\":{\"color\":1,\"colorscale\":[[0.0,\"#440154\"],[0.1111111111111111,\"#482878\"],[0.2222222222222222,\"#3e4989\"],[0.3333333333333333,\"#31688e\"],[0.4444444444444444,\"#26828e\"],[0.5555555555555556,\"#1f9e89\"],[0.6666666666666666,\"#35b779\"],[0.7777777777777778,\"#6ece58\"],[0.8888888888888888,\"#b5de2b\"],[1.0,\"#fde725\"]],\"opacity\":0.8,\"size\":5},\"mode\":\"markers\",\"name\":\"Cluster 1\",\"x\":[-1.7389991930659485,-1.7389991930659485,-1.5481520472070869,-1.5099826180353144,-1.3954743305199975,-1.357304901348225,-1.2427966138329078,-1.2427966138329078,-1.0519494679740462,-0.8611023221151844,-0.7084246054280949,-0.5557468887410055,-0.4794080303974609,-0.4794080303974609,-0.2503914553668267,-0.2503914553668267,-0.05954430950796496,-0.021374880336192604,0.01679454883557975,0.0549639780073521,0.13130283635089682,0.24581112386621387,0.3221499822097586,0.3984888405533033,0.3984888405533033,0.3984888405533033,0.474827698896848,0.474827698896848,0.5129971280686204,0.5511665572403928,0.6275054155839375,0.6656748447557098,0.6656748447557098,0.7801831322710269,1.009199707301661,1.009199707301661,1.009199707301661,1.0473691364734332,1.238216282332295,1.4672328573629292,1.543571715706474,2.4978074450007828,2.9176711658902788],\"y\":[-0.43480147996914814,1.195704069915157,1.118060948492095,0.6133806592421909,0.8851315842229084,0.8851315842229084,1.234525630626688,0.4192728556845355,1.622741237741999,1.622741237741999,0.38045129497300445,0.18634349141534906,0.34162973426147336,0.34162973426147336,0.14752193070381797,0.18634349141534906,-0.357158358546086,0.06987880928075582,-0.046585872853837404,0.18634349141534906,-0.16305055498843063,0.22516505212688012,1.5839196770304678,1.7392059198765921,0.9627747056459706,0.9627747056459706,-1.7547345441612048,0.8851315842229084,-1.5606267406035494,1.66156279845353,1.8168490412996543,1.5450981163189368,1.4674549948958746,-1.7547345441612048,0.49691597710759766,0.9627747056459706,1.622741237741999,0.7298453413767841,1.5450981163189368,1.8168490412996543,0.691023780665253,0.9239531449344395,1.2733471913382193],\"z\":[1.1281521496355325,1.1281521496355325,1.1281521496355325,1.1281521496355325,1.1281521496355325,1.1281521496355325,1.1281521496355325,1.1281521496355325,1.1281521496355325,1.1281521496355325,1.1281521496355325,1.1281521496355325,1.1281521496355325,1.1281521496355325,1.1281521496355325,1.1281521496355325,1.1281521496355325,1.1281521496355325,1.1281521496355325,1.1281521496355325,1.1281521496355325,1.1281521496355325,1.1281521496355325,1.1281521496355325,1.1281521496355325,1.1281521496355325,1.1281521496355325,1.1281521496355325,1.1281521496355325,1.1281521496355325,1.1281521496355325,1.1281521496355325,1.1281521496355325,1.1281521496355325,1.1281521496355325,1.1281521496355325,1.1281521496355325,1.1281521496355325,1.1281521496355325,1.1281521496355325,1.1281521496355325,1.1281521496355325,1.1281521496355325],\"type\":\"scatter3d\"},{\"marker\":{\"color\":2,\"colorscale\":[[0.0,\"#440154\"],[0.1111111111111111,\"#482878\"],[0.2222222222222222,\"#3e4989\"],[0.3333333333333333,\"#31688e\"],[0.4444444444444444,\"#26828e\"],[0.5555555555555556,\"#1f9e89\"],[0.6666666666666666,\"#35b779\"],[0.7777777777777778,\"#6ece58\"],[0.8888888888888888,\"#b5de2b\"],[1.0,\"#fde725\"]],\"opacity\":0.8,\"size\":5},\"mode\":\"markers\",\"name\":\"Cluster 2\",\"x\":[-1.7008297638941763,-1.6626603347224038,-1.6244909055506316,-1.5863214763788591,-1.5863214763788591,-1.5481520472070869,-1.4336437596917697,-1.2046271846611356,-1.1664577554893631,-1.0519494679740462,-1.0137800388022737,-0.8992717512869568,-0.8229328929434121,-0.8229328929434121,-0.7847634637716397,-0.7847634637716397,-0.7847634637716397,-0.6702551762563226,-0.5557468887410055,-0.4794080303974609,-0.2503914553668267,-0.2503914553668267,-0.13588316785150967,-0.09771373867973732,-0.021374880336192604,-0.021374880336192604,0.0549639780073521,0.0549639780073521,0.09313340717912445,0.16947226552266917,0.16947226552266917,0.3221499822097586,0.36031941138153095,0.36031941138153095,0.43665826972507565,0.43665826972507565,0.474827698896848,0.5129971280686204,0.5893359864121651,0.5893359864121651,0.6275054155839375,0.6656748447557098,0.6656748447557098,0.6656748447557098,0.6656748447557098,0.7038442739274822,0.7801831322710269,0.9328608489581163,0.9710302781298886,1.0473691364734332,1.3908939990193845,1.429063428191157,1.6199105740500186,1.6199105740500186,2.0016048657677423,2.2687908699701484],\"y\":[1.0404178270690327,1.0015962663575015,1.700384359165061,0.8463100235113773,1.8944921627227165,1.0404178270690327,1.8556706020111853,1.4286334341843434,0.8851315842229084,1.195704069915157,0.8851315842229084,0.9627747056459706,0.4192728556845355,0.5745590985306598,-0.12422899427689955,-0.31833679783455493,-0.31833679783455493,0.14752193070381797,0.03105724856922475,-0.12422899427689955,0.06987880928075582,0.2639866128384112,0.18634349141534906,0.38045129497300445,-0.31833679783455493,-0.007764312142306325,-0.357158358546086,-0.31833679783455493,0.14752193070381797,-0.08540743356536848,-0.007764312142306325,0.30280817354994227,-0.823017087084459,1.0404178270690327,-0.6289092835268035,0.8074884627998463,1.4674549948958746,0.8463100235113773,-0.3959799192576171,1.4286334341843434,0.9239531449344395,1.0015962663575015,1.5062765556074056,1.0792393877805637,0.8851315842229084,1.2733471913382193,1.66156279845353,0.9627747056459706,1.7392059198765921,1.3898118734728124,1.3898118734728124,1.4674549948958746,1.3509903127612812,0.7298453413767841,1.5839196770304678,1.118060948492095],\"z\":[-0.8864052604279183,-0.8864052604279183,-0.8864052604279183,-0.8864052604279183,-0.8864052604279183,-0.8864052604279183,-0.8864052604279183,-0.8864052604279183,-0.8864052604279183,-0.8864052604279183,-0.8864052604279183,-0.8864052604279183,-0.8864052604279183,-0.8864052604279183,-0.8864052604279183,-0.8864052604279183,-0.8864052604279183,-0.8864052604279183,-0.8864052604279183,-0.8864052604279183,-0.8864052604279183,-0.8864052604279183,-0.8864052604279183,-0.8864052604279183,-0.8864052604279183,-0.8864052604279183,-0.8864052604279183,-0.8864052604279183,-0.8864052604279183,-0.8864052604279183,-0.8864052604279183,-0.8864052604279183,-0.8864052604279183,-0.8864052604279183,-0.8864052604279183,-0.8864052604279183,-0.8864052604279183,-0.8864052604279183,-0.8864052604279183,-0.8864052604279183,-0.8864052604279183,-0.8864052604279183,-0.8864052604279183,-0.8864052604279183,-0.8864052604279183,-0.8864052604279183,-0.8864052604279183,-0.8864052604279183,-0.8864052604279183,-0.8864052604279183,-0.8864052604279183,-0.8864052604279183,-0.8864052604279183,-0.8864052604279183,-0.8864052604279183,-0.8864052604279183],\"type\":\"scatter3d\"},{\"marker\":{\"color\":3,\"colorscale\":[[0.0,\"#440154\"],[0.1111111111111111,\"#482878\"],[0.2222222222222222,\"#3e4989\"],[0.3333333333333333,\"#31688e\"],[0.4444444444444444,\"#26828e\"],[0.5555555555555556,\"#1f9e89\"],[0.6666666666666666,\"#35b779\"],[0.7777777777777778,\"#6ece58\"],[0.8888888888888888,\"#b5de2b\"],[1.0,\"#fde725\"]],\"opacity\":0.8,\"size\":5},\"mode\":\"markers\",\"name\":\"Cluster 3\",\"x\":[-1.7008297638941763,-1.6626603347224038,-1.6244909055506316,-1.5481520472070869,-1.5099826180353144,-1.357304901348225,-1.2427966138329078,-1.2427966138329078,-1.2046271846611356,-1.0519494679740462,-1.0137800388022737,-0.8992717512869568,-0.8611023221151844,-0.8229328929434121,-0.7847634637716397,-0.7084246054280949,-0.6702551762563226,-0.6320857470845502,-0.5175774595692332,-0.5175774595692332,-0.4794080303974609,-0.4794080303974609,-0.44123860122568853,-0.4030691720539161,-0.4030691720539161,-0.2503914553668267,-0.2503914553668267,-0.2503914553668267,-0.13588316785150967,-0.09771373867973732,-0.05954430950796496,-0.021374880336192604,-0.021374880336192604,0.0549639780073521,0.09313340717912445,0.13130283635089682,0.16947226552266917,0.16947226552266917,0.24581112386621387,0.24581112386621387,0.24581112386621387,0.474827698896848,0.5511665572403928,0.6656748447557098,0.6656748447557098,0.6656748447557098,0.7038442739274822,1.009199707301661,1.0473691364734332,1.3908939990193845,1.4672328573629292,1.543571715706474,1.6199105740500186,1.6199105740500186,2.2687908699701484,2.4978074450007828],\"y\":[-1.7159129834496736,-0.3959799192576171,-1.7159129834496736,-1.3665189370458939,-0.5900877228152724,-1.7547345441612048,-1.405340497757425,-0.7065524049498657,-0.7453739656613968,-1.405340497757425,-1.288875815622832,-0.9394817692190521,-0.5900877228152724,-0.86183864779599,0.18634349141534906,0.06987880928075582,-0.20187211569996172,-0.007764312142306325,0.06987880928075582,0.34162973426147336,-0.007764312142306325,-0.08540743356536848,-0.31833679783455493,-0.046585872853837404,0.22516505212688012,0.1087003699922869,-0.31833679783455493,-0.24069367641149278,0.30280817354994227,-0.16305055498843063,0.18634349141534906,-0.3959799192576171,-0.12422899427689955,-0.08540743356536848,-0.007764312142306325,-0.31833679783455493,-0.27951523712302384,0.34162973426147336,-0.27951523712302384,0.2639866128384112,-0.3959799192576171,-1.6770914227381426,-1.7547345441612048,-1.0947680120651764,-1.1724111334882386,-1.327697376334363,-0.5900877228152724,-0.900660208507521,-1.444162058468956,-0.7065524049498657,-0.43480147996914814,-1.0171248906421142,-1.288875815622832,-1.0559464513536454,-1.327697376334363,-0.86183864779599],\"z\":[-0.8864052604279183,-0.8864052604279183,-0.8864052604279183,-0.8864052604279183,-0.8864052604279183,-0.8864052604279183,-0.8864052604279183,-0.8864052604279183,-0.8864052604279183,-0.8864052604279183,-0.8864052604279183,-0.8864052604279183,-0.8864052604279183,-0.8864052604279183,-0.8864052604279183,-0.8864052604279183,-0.8864052604279183,-0.8864052604279183,-0.8864052604279183,-0.8864052604279183,-0.8864052604279183,-0.8864052604279183,-0.8864052604279183,-0.8864052604279183,-0.8864052604279183,-0.8864052604279183,-0.8864052604279183,-0.8864052604279183,-0.8864052604279183,-0.8864052604279183,-0.8864052604279183,-0.8864052604279183,-0.8864052604279183,-0.8864052604279183,-0.8864052604279183,-0.8864052604279183,-0.8864052604279183,-0.8864052604279183,-0.8864052604279183,-0.8864052604279183,-0.8864052604279183,-0.8864052604279183,-0.8864052604279183,-0.8864052604279183,-0.8864052604279183,-0.8864052604279183,-0.8864052604279183,-0.8864052604279183,-0.8864052604279183,-0.8864052604279183,-0.8864052604279183,-0.8864052604279183,-0.8864052604279183,-0.8864052604279183,-0.8864052604279183,-0.8864052604279183],\"type\":\"scatter3d\"}],                        {\"template\":{\"data\":{\"histogram2dcontour\":[{\"type\":\"histogram2dcontour\",\"colorbar\":{\"outlinewidth\":0,\"ticks\":\"\"},\"colorscale\":[[0.0,\"#0d0887\"],[0.1111111111111111,\"#46039f\"],[0.2222222222222222,\"#7201a8\"],[0.3333333333333333,\"#9c179e\"],[0.4444444444444444,\"#bd3786\"],[0.5555555555555556,\"#d8576b\"],[0.6666666666666666,\"#ed7953\"],[0.7777777777777778,\"#fb9f3a\"],[0.8888888888888888,\"#fdca26\"],[1.0,\"#f0f921\"]]}],\"choropleth\":[{\"type\":\"choropleth\",\"colorbar\":{\"outlinewidth\":0,\"ticks\":\"\"}}],\"histogram2d\":[{\"type\":\"histogram2d\",\"colorbar\":{\"outlinewidth\":0,\"ticks\":\"\"},\"colorscale\":[[0.0,\"#0d0887\"],[0.1111111111111111,\"#46039f\"],[0.2222222222222222,\"#7201a8\"],[0.3333333333333333,\"#9c179e\"],[0.4444444444444444,\"#bd3786\"],[0.5555555555555556,\"#d8576b\"],[0.6666666666666666,\"#ed7953\"],[0.7777777777777778,\"#fb9f3a\"],[0.8888888888888888,\"#fdca26\"],[1.0,\"#f0f921\"]]}],\"heatmap\":[{\"type\":\"heatmap\",\"colorbar\":{\"outlinewidth\":0,\"ticks\":\"\"},\"colorscale\":[[0.0,\"#0d0887\"],[0.1111111111111111,\"#46039f\"],[0.2222222222222222,\"#7201a8\"],[0.3333333333333333,\"#9c179e\"],[0.4444444444444444,\"#bd3786\"],[0.5555555555555556,\"#d8576b\"],[0.6666666666666666,\"#ed7953\"],[0.7777777777777778,\"#fb9f3a\"],[0.8888888888888888,\"#fdca26\"],[1.0,\"#f0f921\"]]}],\"heatmapgl\":[{\"type\":\"heatmapgl\",\"colorbar\":{\"outlinewidth\":0,\"ticks\":\"\"},\"colorscale\":[[0.0,\"#0d0887\"],[0.1111111111111111,\"#46039f\"],[0.2222222222222222,\"#7201a8\"],[0.3333333333333333,\"#9c179e\"],[0.4444444444444444,\"#bd3786\"],[0.5555555555555556,\"#d8576b\"],[0.6666666666666666,\"#ed7953\"],[0.7777777777777778,\"#fb9f3a\"],[0.8888888888888888,\"#fdca26\"],[1.0,\"#f0f921\"]]}],\"contourcarpet\":[{\"type\":\"contourcarpet\",\"colorbar\":{\"outlinewidth\":0,\"ticks\":\"\"}}],\"contour\":[{\"type\":\"contour\",\"colorbar\":{\"outlinewidth\":0,\"ticks\":\"\"},\"colorscale\":[[0.0,\"#0d0887\"],[0.1111111111111111,\"#46039f\"],[0.2222222222222222,\"#7201a8\"],[0.3333333333333333,\"#9c179e\"],[0.4444444444444444,\"#bd3786\"],[0.5555555555555556,\"#d8576b\"],[0.6666666666666666,\"#ed7953\"],[0.7777777777777778,\"#fb9f3a\"],[0.8888888888888888,\"#fdca26\"],[1.0,\"#f0f921\"]]}],\"surface\":[{\"type\":\"surface\",\"colorbar\":{\"outlinewidth\":0,\"ticks\":\"\"},\"colorscale\":[[0.0,\"#0d0887\"],[0.1111111111111111,\"#46039f\"],[0.2222222222222222,\"#7201a8\"],[0.3333333333333333,\"#9c179e\"],[0.4444444444444444,\"#bd3786\"],[0.5555555555555556,\"#d8576b\"],[0.6666666666666666,\"#ed7953\"],[0.7777777777777778,\"#fb9f3a\"],[0.8888888888888888,\"#fdca26\"],[1.0,\"#f0f921\"]]}],\"mesh3d\":[{\"type\":\"mesh3d\",\"colorbar\":{\"outlinewidth\":0,\"ticks\":\"\"}}],\"scatter\":[{\"fillpattern\":{\"fillmode\":\"overlay\",\"size\":10,\"solidity\":0.2},\"type\":\"scatter\"}],\"parcoords\":[{\"type\":\"parcoords\",\"line\":{\"colorbar\":{\"outlinewidth\":0,\"ticks\":\"\"}}}],\"scatterpolargl\":[{\"type\":\"scatterpolargl\",\"marker\":{\"colorbar\":{\"outlinewidth\":0,\"ticks\":\"\"}}}],\"bar\":[{\"error_x\":{\"color\":\"#2a3f5f\"},\"error_y\":{\"color\":\"#2a3f5f\"},\"marker\":{\"line\":{\"color\":\"#E5ECF6\",\"width\":0.5},\"pattern\":{\"fillmode\":\"overlay\",\"size\":10,\"solidity\":0.2}},\"type\":\"bar\"}],\"scattergeo\":[{\"type\":\"scattergeo\",\"marker\":{\"colorbar\":{\"outlinewidth\":0,\"ticks\":\"\"}}}],\"scatterpolar\":[{\"type\":\"scatterpolar\",\"marker\":{\"colorbar\":{\"outlinewidth\":0,\"ticks\":\"\"}}}],\"histogram\":[{\"marker\":{\"pattern\":{\"fillmode\":\"overlay\",\"size\":10,\"solidity\":0.2}},\"type\":\"histogram\"}],\"scattergl\":[{\"type\":\"scattergl\",\"marker\":{\"colorbar\":{\"outlinewidth\":0,\"ticks\":\"\"}}}],\"scatter3d\":[{\"type\":\"scatter3d\",\"line\":{\"colorbar\":{\"outlinewidth\":0,\"ticks\":\"\"}},\"marker\":{\"colorbar\":{\"outlinewidth\":0,\"ticks\":\"\"}}}],\"scattermapbox\":[{\"type\":\"scattermapbox\",\"marker\":{\"colorbar\":{\"outlinewidth\":0,\"ticks\":\"\"}}}],\"scatterternary\":[{\"type\":\"scatterternary\",\"marker\":{\"colorbar\":{\"outlinewidth\":0,\"ticks\":\"\"}}}],\"scattercarpet\":[{\"type\":\"scattercarpet\",\"marker\":{\"colorbar\":{\"outlinewidth\":0,\"ticks\":\"\"}}}],\"carpet\":[{\"aaxis\":{\"endlinecolor\":\"#2a3f5f\",\"gridcolor\":\"white\",\"linecolor\":\"white\",\"minorgridcolor\":\"white\",\"startlinecolor\":\"#2a3f5f\"},\"baxis\":{\"endlinecolor\":\"#2a3f5f\",\"gridcolor\":\"white\",\"linecolor\":\"white\",\"minorgridcolor\":\"white\",\"startlinecolor\":\"#2a3f5f\"},\"type\":\"carpet\"}],\"table\":[{\"cells\":{\"fill\":{\"color\":\"#EBF0F8\"},\"line\":{\"color\":\"white\"}},\"header\":{\"fill\":{\"color\":\"#C8D4E3\"},\"line\":{\"color\":\"white\"}},\"type\":\"table\"}],\"barpolar\":[{\"marker\":{\"line\":{\"color\":\"#E5ECF6\",\"width\":0.5},\"pattern\":{\"fillmode\":\"overlay\",\"size\":10,\"solidity\":0.2}},\"type\":\"barpolar\"}],\"pie\":[{\"automargin\":true,\"type\":\"pie\"}]},\"layout\":{\"autotypenumbers\":\"strict\",\"colorway\":[\"#636efa\",\"#EF553B\",\"#00cc96\",\"#ab63fa\",\"#FFA15A\",\"#19d3f3\",\"#FF6692\",\"#B6E880\",\"#FF97FF\",\"#FECB52\"],\"font\":{\"color\":\"#2a3f5f\"},\"hovermode\":\"closest\",\"hoverlabel\":{\"align\":\"left\"},\"paper_bgcolor\":\"white\",\"plot_bgcolor\":\"#E5ECF6\",\"polar\":{\"bgcolor\":\"#E5ECF6\",\"angularaxis\":{\"gridcolor\":\"white\",\"linecolor\":\"white\",\"ticks\":\"\"},\"radialaxis\":{\"gridcolor\":\"white\",\"linecolor\":\"white\",\"ticks\":\"\"}},\"ternary\":{\"bgcolor\":\"#E5ECF6\",\"aaxis\":{\"gridcolor\":\"white\",\"linecolor\":\"white\",\"ticks\":\"\"},\"baxis\":{\"gridcolor\":\"white\",\"linecolor\":\"white\",\"ticks\":\"\"},\"caxis\":{\"gridcolor\":\"white\",\"linecolor\":\"white\",\"ticks\":\"\"}},\"coloraxis\":{\"colorbar\":{\"outlinewidth\":0,\"ticks\":\"\"}},\"colorscale\":{\"sequential\":[[0.0,\"#0d0887\"],[0.1111111111111111,\"#46039f\"],[0.2222222222222222,\"#7201a8\"],[0.3333333333333333,\"#9c179e\"],[0.4444444444444444,\"#bd3786\"],[0.5555555555555556,\"#d8576b\"],[0.6666666666666666,\"#ed7953\"],[0.7777777777777778,\"#fb9f3a\"],[0.8888888888888888,\"#fdca26\"],[1.0,\"#f0f921\"]],\"sequentialminus\":[[0.0,\"#0d0887\"],[0.1111111111111111,\"#46039f\"],[0.2222222222222222,\"#7201a8\"],[0.3333333333333333,\"#9c179e\"],[0.4444444444444444,\"#bd3786\"],[0.5555555555555556,\"#d8576b\"],[0.6666666666666666,\"#ed7953\"],[0.7777777777777778,\"#fb9f3a\"],[0.8888888888888888,\"#fdca26\"],[1.0,\"#f0f921\"]],\"diverging\":[[0,\"#8e0152\"],[0.1,\"#c51b7d\"],[0.2,\"#de77ae\"],[0.3,\"#f1b6da\"],[0.4,\"#fde0ef\"],[0.5,\"#f7f7f7\"],[0.6,\"#e6f5d0\"],[0.7,\"#b8e186\"],[0.8,\"#7fbc41\"],[0.9,\"#4d9221\"],[1,\"#276419\"]]},\"xaxis\":{\"gridcolor\":\"white\",\"linecolor\":\"white\",\"ticks\":\"\",\"title\":{\"standoff\":15},\"zerolinecolor\":\"white\",\"automargin\":true,\"zerolinewidth\":2},\"yaxis\":{\"gridcolor\":\"white\",\"linecolor\":\"white\",\"ticks\":\"\",\"title\":{\"standoff\":15},\"zerolinecolor\":\"white\",\"automargin\":true,\"zerolinewidth\":2},\"scene\":{\"xaxis\":{\"backgroundcolor\":\"#E5ECF6\",\"gridcolor\":\"white\",\"linecolor\":\"white\",\"showbackground\":true,\"ticks\":\"\",\"zerolinecolor\":\"white\",\"gridwidth\":2},\"yaxis\":{\"backgroundcolor\":\"#E5ECF6\",\"gridcolor\":\"white\",\"linecolor\":\"white\",\"showbackground\":true,\"ticks\":\"\",\"zerolinecolor\":\"white\",\"gridwidth\":2},\"zaxis\":{\"backgroundcolor\":\"#E5ECF6\",\"gridcolor\":\"white\",\"linecolor\":\"white\",\"showbackground\":true,\"ticks\":\"\",\"zerolinecolor\":\"white\",\"gridwidth\":2}},\"shapedefaults\":{\"line\":{\"color\":\"#2a3f5f\"}},\"annotationdefaults\":{\"arrowcolor\":\"#2a3f5f\",\"arrowhead\":0,\"arrowwidth\":1},\"geo\":{\"bgcolor\":\"white\",\"landcolor\":\"#E5ECF6\",\"subunitcolor\":\"white\",\"showland\":true,\"showlakes\":true,\"lakecolor\":\"white\"},\"title\":{\"x\":0.05},\"mapbox\":{\"style\":\"light\"}}},\"margin\":{\"r\":20,\"b\":10,\"l\":10,\"t\":10},\"scene\":{\"xaxis\":{\"title\":{\"text\":\"X\"}},\"yaxis\":{\"title\":{\"text\":\"Y\"}},\"zaxis\":{\"title\":{\"text\":\"Z\"}}},\"width\":800},                        {\"responsive\": true}                    ).then(function(){\n",
       "                            \n",
       "var gd = document.getElementById('790e2762-8c62-460b-8d12-87fcffb94c73');\n",
       "var x = new MutationObserver(function (mutations, observer) {{\n",
       "        var display = window.getComputedStyle(gd).display;\n",
       "        if (!display || display === 'none') {{\n",
       "            console.log([gd, 'removed!']);\n",
       "            Plotly.purge(gd);\n",
       "            observer.disconnect();\n",
       "        }}\n",
       "}});\n",
       "\n",
       "// Listen for the removal of the full notebook cells\n",
       "var notebookContainer = gd.closest('#notebook-container');\n",
       "if (notebookContainer) {{\n",
       "    x.observe(notebookContainer, {childList: true});\n",
       "}}\n",
       "\n",
       "// Listen for the clearing of the current output cell\n",
       "var outputEl = gd.closest('.output');\n",
       "if (outputEl) {{\n",
       "    x.observe(outputEl, {childList: true});\n",
       "}}\n",
       "\n",
       "                        })                };                });            </script>        </div>"
      ]
     },
     "metadata": {},
     "output_type": "display_data"
    }
   ],
   "source": [
    "import plotly.graph_objs as go\n",
    "import plotly.io as pio\n",
    "\n",
    "fig = go.Figure()\n",
    "\n",
    "for i in range(4):\n",
    "    fig.add_trace(go.Scatter3d(\n",
    "        x=dff[dff['Multi cluster']==i][1],\n",
    "        y=dff[dff['Multi cluster']==i][2],\n",
    "        z=dff[dff['Multi cluster']==i][3],\n",
    "        mode='markers',\n",
    "        marker=dict(\n",
    "            size=5,\n",
    "            color=i,\n",
    "            colorscale='Viridis',\n",
    "            opacity=0.8\n",
    "        ),\n",
    "        name='Cluster '+str(i)\n",
    "    ))\n",
    "\n",
    "fig.update_layout(scene=dict(\n",
    "                    xaxis_title='X',\n",
    "                    yaxis_title='Y',\n",
    "                    zaxis_title='Z'),\n",
    "                  width=800,\n",
    "                  margin=dict(r=20, b=10, l=10, t=10))\n",
    "\n",
    "pio.show(fig)\n",
    "\n"
   ]
  },
  {
   "cell_type": "code",
   "execution_count": null,
   "id": "b6519dd1",
   "metadata": {},
   "outputs": [],
   "source": []
  }
 ],
 "metadata": {
  "kernelspec": {
   "display_name": "Python 3",
   "language": "python",
   "name": "python3"
  },
  "language_info": {
   "codemirror_mode": {
    "name": "ipython",
    "version": 3
   },
   "file_extension": ".py",
   "mimetype": "text/x-python",
   "name": "python",
   "nbconvert_exporter": "python",
   "pygments_lexer": "ipython3",
   "version": "3.8.8"
  }
 },
 "nbformat": 4,
 "nbformat_minor": 5
}
